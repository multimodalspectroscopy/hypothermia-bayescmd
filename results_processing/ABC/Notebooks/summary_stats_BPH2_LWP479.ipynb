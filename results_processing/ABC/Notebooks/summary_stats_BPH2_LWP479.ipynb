{
 "cells": [
  {
   "cell_type": "code",
   "execution_count": 1,
   "metadata": {},
   "outputs": [],
   "source": [
    "# from IPython.display import HTML\n",
    "\n",
    "# HTML('''<script>\n",
    "# code_show=true; \n",
    "# function code_toggle() {\n",
    "#  if (code_show){\n",
    "#  $('div.input').hide();\n",
    "#  } else {\n",
    "#  $('div.input').show();\n",
    "#  }\n",
    "#  code_show = !code_show\n",
    "# } \n",
    "# $( document ).ready(code_toggle);\n",
    "# </script>\n",
    "# The raw code for this IPython notebook is by default hidden for easier reading.\n",
    "# To toggle on/off the raw code, click <a href=\"javascript:code_toggle()\">here</a>.''')\n",
    "\n",
    "\n"
   ]
  },
  {
   "cell_type": "code",
   "execution_count": 2,
   "metadata": {},
   "outputs": [
    {
     "name": "stdout",
     "output_type": "stream",
     "text": [
      "STARTING AT: /home/buck06191/repos/Github/BayesCMD/bayescmd\n",
      " Looking for: BayesCMD\n",
      "STARTING AT: /home/buck06191/repos/Github/BayesCMD/bayescmd\n",
      " Looking for: BayesCMD\n",
      "STARTING AT: /home/buck06191/repos/Github/BayesCMD/bayescmd\n",
      " Looking for: BayesCMD\n"
     ]
    }
   ],
   "source": [
    "import warnings\n",
    "warnings.filterwarnings('ignore')\n",
    "import numpy as np\n",
    "import pandas as pd\n",
    "import matplotlib.pyplot as plt\n",
    "import seaborn as sns\n",
    "import matplotlib.lines as mlines\n",
    "import random\n",
    "import json\n",
    "from math import ceil\n",
    "%matplotlib inline\n",
    "import os\n",
    "import matplotlib as mpl\n",
    "from PIL import Image\n",
    "from io import BytesIO\n",
    "from bayescmd.abc import SummaryStats\n",
    "from bayescmd.abc import import_actual_data\n",
    "from bayescmd.abc import inputParse\n",
    "import scipy.stats as stats\n",
    "import statsmodels.api as sm\n",
    "\n",
    "\n",
    "import os\n",
    "from pathlib import Path\n",
    "from distutils import dir_util\n",
    "from pprint import pprint\n",
    "import pickle\n",
    "\n",
    "# BayesCMD packages \n",
    "\n",
    "from bayescmd.abc import import_actual_data\n",
    "from bayescmd.abc import priors_creator\n",
    "\n",
    "# Google BigQuery\n",
    "from google.cloud import bigquery\n",
    "%load_ext google.cloud.bigquery\n",
    "\n",
    "\n",
    "from bayescmd.results_handling import get_output\n",
    "\n",
    "mpl.rc('figure', dpi=300, figsize=(7.5,8))\n",
    "\n",
    "mpl.rcParams[\"xtick.labelsize\"]= 8\n",
    "\n",
    "mpl.rcParams[\"ytick.labelsize\"]= 8\n",
    "    \n",
    "mpl.rcParams[\"axes.labelsize\"]= 10\n",
    "\n",
    "mpl.rcParams[\"figure.titlesize\"] = 12"
   ]
  },
  {
   "cell_type": "code",
   "execution_count": 3,
   "metadata": {},
   "outputs": [],
   "source": [
    "def TIFF_exporter(fig, fname, fig_dir='.', extra_artists=()):\n",
    "    \"\"\"\n",
    "    Parameters\n",
    "    ----------\n",
    "    fig: matplotlib figure\n",
    "    \"\"\"\n",
    "\n",
    "    # save figure\n",
    "    # (1) save the image in memory in PNG format\n",
    "    # png1 = BytesIO()\n",
    "    fig.savefig(os.path.join(fig_dir, '{}.png'.format(fname)), format='png', bbox_inches='tight', bbox_extra_artists=extra_artists,\n",
    "                dpi=300, transparent=False)\n",
    "\n",
    "#     # (2) load this image into PIL\n",
    "#     png2 = Image.open(png1)\n",
    "\n",
    "#     # (3) save as TIFF\n",
    "#     png2.save(os.path.join(fig_dir, '{}.tiff'.format(fname)),\n",
    "#               compression='tiff_deflate')\n",
    "#     png1.close()\n",
    "    return True"
   ]
  },
  {
   "cell_type": "code",
   "execution_count": 4,
   "metadata": {},
   "outputs": [],
   "source": [
    "# Explicitly use service account credentials by specifying the private\n",
    "# key file. All clients in google-cloud-python have this helper.\n",
    "client = bigquery.Client.from_service_account_json(\n",
    "    \"../../gcloud/hypothermia-auth.json\"\n",
    ")"
   ]
  },
  {
   "cell_type": "code",
   "execution_count": 5,
   "metadata": {},
   "outputs": [],
   "source": [
    "def generate_posterior_query(project, dataset, model, distance, parameters, limit=50000):\n",
    "    unpacked_params = \",\\n\".join(parameters)\n",
    "    histogram_query = \"\"\"\n",
    "SELECT\n",
    "    {unpacked_params},\n",
    "    {distance},\n",
    "    idx\n",
    "FROM\n",
    "  `{project}.{dataset}.{model}`\n",
    "ORDER BY\n",
    "  {distance} ASC\n",
    "LIMIT\n",
    "  {limit}\n",
    "    \"\"\".format(project=project, dataset=dataset, model=model, unpacked_params=unpacked_params,distance=distance, limit=limit)\n",
    "    return histogram_query"
   ]
  },
  {
   "cell_type": "code",
   "execution_count": 6,
   "metadata": {},
   "outputs": [],
   "source": [
    "def load_configuration(model_version, dataset, verbose=False):\n",
    "    current_file = Path(os.path.abspath(''))\n",
    "    config_file = os.path.join(current_file.parents[2],\n",
    "                              'config_files',\n",
    "                               'abc',\n",
    "                               'bp_hypothermia_{}'.format(model_version),\n",
    "                               'bp_hypothermia_{}_config.json'.format(model_version)\n",
    "                              )\n",
    "\n",
    "    with open(config_file, 'r') as conf_f:\n",
    "        conf = json.load(conf_f)\n",
    "\n",
    "    params = conf['priors']\n",
    "\n",
    "    input_path = os.path.join(current_file.parents[2],\n",
    "                              'data',\n",
    "                              'clean_hypothermia',\n",
    "                              '{}_filtered_formatted.csv'.format(dataset.upper()))\n",
    "\n",
    "    d0 = import_actual_data(input_path)\n",
    "\n",
    "    targets = conf['targets']\n",
    "    model_name = conf['model_name']\n",
    "    inputs = conf['inputs']\n",
    "\n",
    "    config = {\n",
    "        \"model_name\": model_name,\n",
    "        \"targets\": targets,\n",
    "        \"times\": d0['t'],\n",
    "        \"inputs\": inputs,\n",
    "        \"parameters\": params,\n",
    "        \"input_path\": input_path,\n",
    "        \"zero_flag\": conf['zero_flag'],\n",
    "    }\n",
    "    \n",
    "    if verbose:\n",
    "        pprint(config)\n",
    "        \n",
    "    return config, d0"
   ]
  },
  {
   "cell_type": "code",
   "execution_count": null,
   "metadata": {},
   "outputs": [],
   "source": [
    "\n"
   ]
  },
  {
   "cell_type": "markdown",
   "metadata": {},
   "source": [
    "# Read in the posterior #\n"
   ]
  },
  {
   "cell_type": "code",
   "execution_count": null,
   "metadata": {},
   "outputs": [],
   "source": []
  },
  {
   "cell_type": "code",
   "execution_count": 7,
   "metadata": {},
   "outputs": [],
   "source": [
    "labels = {\"t\": \"Time (sec)\", \n",
    " \"HbO2\": \"$\\Delta$HbO2 $(\\mu M)$\",\n",
    " \"HHb\": \"$\\Delta$HHb $(\\mu M)$\",\n",
    " \"CCO\": \"$\\Delta$CCO $(\\mu M)$\"}\n",
    "\n",
    "signals=['HbO2', 'HHb','CCO']\n",
    "ticker_step = [20, 10, 10, 10, 0.5]\n",
    "colpal = sns.color_palette(n_colors=len(signals))"
   ]
  },
  {
   "cell_type": "code",
   "execution_count": 8,
   "metadata": {},
   "outputs": [],
   "source": [
    "def get_runs(posterior, conf, n_repeats=50): \n",
    "    rand_selection = random.sample(range(posterior.shape[0]), n_repeats)\n",
    "    outputs_list = []\n",
    "    p_names = list(conf['parameters'].keys())\n",
    "    posteriors = posterior[p_names].values\n",
    "    d0 = import_actual_data(conf['input_path'])\n",
    "    input_data = inputParse(d0, conf['inputs'])\n",
    "    while len(outputs_list) < n_repeats:\n",
    "        idx = rand_selection.pop()\n",
    "        print(\"\\tSample {}, idx:{}\".format(len(outputs_list), idx))\n",
    "        p = dict(zip(p_names, posteriors[idx]))\n",
    "            \n",
    "    \n",
    "        _, output = get_output(\n",
    "            conf['model_name'],\n",
    "            p,\n",
    "            conf['times'],\n",
    "            input_data,\n",
    "            d0,\n",
    "            conf['targets'],\n",
    "            distance=\"NRMSE\",\n",
    "            zero_flag=conf['zero_flag'])\n",
    "        outputs_list.append(output)\n",
    "    return outputs_list\n"
   ]
  },
  {
   "cell_type": "markdown",
   "metadata": {},
   "source": [
    "## Generating posterior predictive ##\n",
    "\n",
    "We can sample directly from the posterior to generate our posterior predictive.We then generate a variety of potentially useful summary statistics as well as the residuals, autocorrelation of the signals and autocorrelation of the residuals for each signal.\n",
    "\n",
    "We also generate each summary statistic for the observed data so as to compare this with the posterior predictive distribution of these statistics."
   ]
  },
  {
   "cell_type": "code",
   "execution_count": 9,
   "metadata": {
    "scrolled": true
   },
   "outputs": [
    {
     "name": "stdout",
     "output_type": "stream",
     "text": [
      "Working on (bph1, LWP475)\n",
      "\tRunning SQL query\n",
      "\tSampling from the posterior 5000 times.\n",
      "\tSample 0, idx:1998\n"
     ]
    },
    {
     "ename": "KeyboardInterrupt",
     "evalue": "",
     "output_type": "error",
     "traceback": [
      "\u001b[0;31m---------------------------------------------------------------------------\u001b[0m",
      "\u001b[0;31mKeyboardInterrupt\u001b[0m                         Traceback (most recent call last)",
      "\u001b[0;32m<ipython-input-9-0b7f3599d452>\u001b[0m in \u001b[0;36m<module>\u001b[0;34m\u001b[0m\n\u001b[1;32m     30\u001b[0m     \u001b[0mprint\u001b[0m\u001b[0;34m(\u001b[0m\u001b[0;34m\"\\tSampling from the posterior {} times.\"\u001b[0m\u001b[0;34m.\u001b[0m\u001b[0mformat\u001b[0m\u001b[0;34m(\u001b[0m\u001b[0mN\u001b[0m\u001b[0;34m)\u001b[0m\u001b[0;34m)\u001b[0m\u001b[0;34m\u001b[0m\u001b[0;34m\u001b[0m\u001b[0m\n\u001b[1;32m     31\u001b[0m \u001b[0;34m\u001b[0m\u001b[0m\n\u001b[0;32m---> 32\u001b[0;31m     \u001b[0moutputs_list\u001b[0m \u001b[0;34m=\u001b[0m \u001b[0mget_runs\u001b[0m\u001b[0;34m(\u001b[0m\u001b[0mdf_post\u001b[0m\u001b[0;34m,\u001b[0m \u001b[0mconfig\u001b[0m\u001b[0;34m,\u001b[0m \u001b[0mn_repeats\u001b[0m\u001b[0;34m=\u001b[0m\u001b[0mN\u001b[0m\u001b[0;34m)\u001b[0m\u001b[0;34m\u001b[0m\u001b[0;34m\u001b[0m\u001b[0m\n\u001b[0m\u001b[1;32m     33\u001b[0m     \u001b[0mresults\u001b[0m \u001b[0;34m=\u001b[0m \u001b[0;34m{\u001b[0m\u001b[0;34m}\u001b[0m\u001b[0;34m\u001b[0m\u001b[0;34m\u001b[0m\u001b[0m\n\u001b[1;32m     34\u001b[0m     \u001b[0mprint\u001b[0m\u001b[0;34m(\u001b[0m\u001b[0;34m\"\\n\"\u001b[0m\u001b[0;34m)\u001b[0m\u001b[0;34m\u001b[0m\u001b[0;34m\u001b[0m\u001b[0m\n",
      "\u001b[0;32m<ipython-input-8-4a721417c644>\u001b[0m in \u001b[0;36mget_runs\u001b[0;34m(posterior, conf, n_repeats)\u001b[0m\n\u001b[1;32m     20\u001b[0m             \u001b[0mconf\u001b[0m\u001b[0;34m[\u001b[0m\u001b[0;34m'targets'\u001b[0m\u001b[0;34m]\u001b[0m\u001b[0;34m,\u001b[0m\u001b[0;34m\u001b[0m\u001b[0;34m\u001b[0m\u001b[0m\n\u001b[1;32m     21\u001b[0m             \u001b[0mdistance\u001b[0m\u001b[0;34m=\u001b[0m\u001b[0;34m\"NRMSE\"\u001b[0m\u001b[0;34m,\u001b[0m\u001b[0;34m\u001b[0m\u001b[0;34m\u001b[0m\u001b[0m\n\u001b[0;32m---> 22\u001b[0;31m             zero_flag=conf['zero_flag'])\n\u001b[0m\u001b[1;32m     23\u001b[0m         \u001b[0moutputs_list\u001b[0m\u001b[0;34m.\u001b[0m\u001b[0mappend\u001b[0m\u001b[0;34m(\u001b[0m\u001b[0moutput\u001b[0m\u001b[0;34m)\u001b[0m\u001b[0;34m\u001b[0m\u001b[0;34m\u001b[0m\u001b[0m\n\u001b[1;32m     24\u001b[0m     \u001b[0;32mreturn\u001b[0m \u001b[0moutputs_list\u001b[0m\u001b[0;34m\u001b[0m\u001b[0;34m\u001b[0m\u001b[0m\n",
      "\u001b[0;32m~/repos/Github/BayesCMD/bayescmd/results_handling.py\u001b[0m in \u001b[0;36mget_output\u001b[0;34m(model_name, p, times, input_data, d0, targets, distance, zero_flag)\u001b[0m\n\u001b[1;32m   1049\u001b[0m         model_name, inputs=input_data, params=p, times=times, outputs=targets)\n\u001b[1;32m   1050\u001b[0m \u001b[0;34m\u001b[0m\u001b[0m\n\u001b[0;32m-> 1051\u001b[0;31m     \u001b[0moutput\u001b[0m \u001b[0;34m=\u001b[0m \u001b[0mrun_model\u001b[0m\u001b[0;34m(\u001b[0m\u001b[0mmodel\u001b[0m\u001b[0;34m)\u001b[0m\u001b[0;34m\u001b[0m\u001b[0;34m\u001b[0m\u001b[0m\n\u001b[0m\u001b[1;32m   1052\u001b[0m \u001b[0;34m\u001b[0m\u001b[0m\n\u001b[1;32m   1053\u001b[0m     dist = abc.get_distance(\n",
      "\u001b[0;32m~/repos/Github/BayesCMD/bayescmd/results_handling.py\u001b[0m in \u001b[0;36mrun_model\u001b[0;34m(model)\u001b[0m\n\u001b[1;32m   1002\u001b[0m     \"\"\"\n\u001b[1;32m   1003\u001b[0m     \u001b[0mmodel\u001b[0m\u001b[0;34m.\u001b[0m\u001b[0mcreate_initialised_input\u001b[0m\u001b[0;34m(\u001b[0m\u001b[0;34m)\u001b[0m\u001b[0;34m\u001b[0m\u001b[0;34m\u001b[0m\u001b[0m\n\u001b[0;32m-> 1004\u001b[0;31m     \u001b[0mmodel\u001b[0m\u001b[0;34m.\u001b[0m\u001b[0mrun_from_buffer\u001b[0m\u001b[0;34m(\u001b[0m\u001b[0;34m)\u001b[0m\u001b[0;34m\u001b[0m\u001b[0;34m\u001b[0m\u001b[0m\n\u001b[0m\u001b[1;32m   1005\u001b[0m     \u001b[0moutput\u001b[0m \u001b[0;34m=\u001b[0m \u001b[0mmodel\u001b[0m\u001b[0;34m.\u001b[0m\u001b[0moutput_parse\u001b[0m\u001b[0;34m(\u001b[0m\u001b[0;34m)\u001b[0m\u001b[0;34m\u001b[0m\u001b[0;34m\u001b[0m\u001b[0m\n\u001b[1;32m   1006\u001b[0m     \u001b[0;32mreturn\u001b[0m \u001b[0moutput\u001b[0m\u001b[0;34m\u001b[0m\u001b[0;34m\u001b[0m\u001b[0m\n",
      "\u001b[0;32m~/repos/Github/BayesCMD/bayescmd/bcmdModel/bcmd_model.py\u001b[0m in \u001b[0;36mrun_from_buffer\u001b[0;34m(self)\u001b[0m\n\u001b[1;32m    448\u001b[0m                 \u001b[0mstderr\u001b[0m\u001b[0;34m=\u001b[0m\u001b[0mf_err\u001b[0m\u001b[0;34m,\u001b[0m\u001b[0;34m\u001b[0m\u001b[0;34m\u001b[0m\u001b[0m\n\u001b[1;32m    449\u001b[0m                 \u001b[0mtimeout\u001b[0m\u001b[0;34m=\u001b[0m\u001b[0mself\u001b[0m\u001b[0;34m.\u001b[0m\u001b[0mtimeout\u001b[0m\u001b[0;34m,\u001b[0m\u001b[0;34m\u001b[0m\u001b[0;34m\u001b[0m\u001b[0m\n\u001b[0;32m--> 450\u001b[0;31m                 check=True)\n\u001b[0m\u001b[1;32m    451\u001b[0m \u001b[0;34m\u001b[0m\u001b[0m\n\u001b[1;32m    452\u001b[0m             \u001b[0;32mif\u001b[0m \u001b[0mf_err\u001b[0m\u001b[0;34m:\u001b[0m\u001b[0;34m\u001b[0m\u001b[0;34m\u001b[0m\u001b[0m\n",
      "\u001b[0;32m/usr/lib/python3.6/subprocess.py\u001b[0m in \u001b[0;36mrun\u001b[0;34m(input, timeout, check, *popenargs, **kwargs)\u001b[0m\n\u001b[1;32m    423\u001b[0m     \u001b[0;32mwith\u001b[0m \u001b[0mPopen\u001b[0m\u001b[0;34m(\u001b[0m\u001b[0;34m*\u001b[0m\u001b[0mpopenargs\u001b[0m\u001b[0;34m,\u001b[0m \u001b[0;34m**\u001b[0m\u001b[0mkwargs\u001b[0m\u001b[0;34m)\u001b[0m \u001b[0;32mas\u001b[0m \u001b[0mprocess\u001b[0m\u001b[0;34m:\u001b[0m\u001b[0;34m\u001b[0m\u001b[0;34m\u001b[0m\u001b[0m\n\u001b[1;32m    424\u001b[0m         \u001b[0;32mtry\u001b[0m\u001b[0;34m:\u001b[0m\u001b[0;34m\u001b[0m\u001b[0;34m\u001b[0m\u001b[0m\n\u001b[0;32m--> 425\u001b[0;31m             \u001b[0mstdout\u001b[0m\u001b[0;34m,\u001b[0m \u001b[0mstderr\u001b[0m \u001b[0;34m=\u001b[0m \u001b[0mprocess\u001b[0m\u001b[0;34m.\u001b[0m\u001b[0mcommunicate\u001b[0m\u001b[0;34m(\u001b[0m\u001b[0minput\u001b[0m\u001b[0;34m,\u001b[0m \u001b[0mtimeout\u001b[0m\u001b[0;34m=\u001b[0m\u001b[0mtimeout\u001b[0m\u001b[0;34m)\u001b[0m\u001b[0;34m\u001b[0m\u001b[0;34m\u001b[0m\u001b[0m\n\u001b[0m\u001b[1;32m    426\u001b[0m         \u001b[0;32mexcept\u001b[0m \u001b[0mTimeoutExpired\u001b[0m\u001b[0;34m:\u001b[0m\u001b[0;34m\u001b[0m\u001b[0;34m\u001b[0m\u001b[0m\n\u001b[1;32m    427\u001b[0m             \u001b[0mprocess\u001b[0m\u001b[0;34m.\u001b[0m\u001b[0mkill\u001b[0m\u001b[0;34m(\u001b[0m\u001b[0;34m)\u001b[0m\u001b[0;34m\u001b[0m\u001b[0;34m\u001b[0m\u001b[0m\n",
      "\u001b[0;32m/usr/lib/python3.6/subprocess.py\u001b[0m in \u001b[0;36mcommunicate\u001b[0;34m(self, input, timeout)\u001b[0m\n\u001b[1;32m    861\u001b[0m \u001b[0;34m\u001b[0m\u001b[0m\n\u001b[1;32m    862\u001b[0m             \u001b[0;32mtry\u001b[0m\u001b[0;34m:\u001b[0m\u001b[0;34m\u001b[0m\u001b[0;34m\u001b[0m\u001b[0m\n\u001b[0;32m--> 863\u001b[0;31m                 \u001b[0mstdout\u001b[0m\u001b[0;34m,\u001b[0m \u001b[0mstderr\u001b[0m \u001b[0;34m=\u001b[0m \u001b[0mself\u001b[0m\u001b[0;34m.\u001b[0m\u001b[0m_communicate\u001b[0m\u001b[0;34m(\u001b[0m\u001b[0minput\u001b[0m\u001b[0;34m,\u001b[0m \u001b[0mendtime\u001b[0m\u001b[0;34m,\u001b[0m \u001b[0mtimeout\u001b[0m\u001b[0;34m)\u001b[0m\u001b[0;34m\u001b[0m\u001b[0;34m\u001b[0m\u001b[0m\n\u001b[0m\u001b[1;32m    864\u001b[0m             \u001b[0;32mfinally\u001b[0m\u001b[0;34m:\u001b[0m\u001b[0;34m\u001b[0m\u001b[0;34m\u001b[0m\u001b[0m\n\u001b[1;32m    865\u001b[0m                 \u001b[0mself\u001b[0m\u001b[0;34m.\u001b[0m\u001b[0m_communication_started\u001b[0m \u001b[0;34m=\u001b[0m \u001b[0;32mTrue\u001b[0m\u001b[0;34m\u001b[0m\u001b[0;34m\u001b[0m\u001b[0m\n",
      "\u001b[0;32m/usr/lib/python3.6/subprocess.py\u001b[0m in \u001b[0;36m_communicate\u001b[0;34m(self, input, endtime, orig_timeout)\u001b[0m\n\u001b[1;32m   1532\u001b[0m                         \u001b[0;32mraise\u001b[0m \u001b[0mTimeoutExpired\u001b[0m\u001b[0;34m(\u001b[0m\u001b[0mself\u001b[0m\u001b[0;34m.\u001b[0m\u001b[0margs\u001b[0m\u001b[0;34m,\u001b[0m \u001b[0morig_timeout\u001b[0m\u001b[0;34m)\u001b[0m\u001b[0;34m\u001b[0m\u001b[0;34m\u001b[0m\u001b[0m\n\u001b[1;32m   1533\u001b[0m \u001b[0;34m\u001b[0m\u001b[0m\n\u001b[0;32m-> 1534\u001b[0;31m                     \u001b[0mready\u001b[0m \u001b[0;34m=\u001b[0m \u001b[0mselector\u001b[0m\u001b[0;34m.\u001b[0m\u001b[0mselect\u001b[0m\u001b[0;34m(\u001b[0m\u001b[0mtimeout\u001b[0m\u001b[0;34m)\u001b[0m\u001b[0;34m\u001b[0m\u001b[0;34m\u001b[0m\u001b[0m\n\u001b[0m\u001b[1;32m   1535\u001b[0m                     \u001b[0mself\u001b[0m\u001b[0;34m.\u001b[0m\u001b[0m_check_timeout\u001b[0m\u001b[0;34m(\u001b[0m\u001b[0mendtime\u001b[0m\u001b[0;34m,\u001b[0m \u001b[0morig_timeout\u001b[0m\u001b[0;34m)\u001b[0m\u001b[0;34m\u001b[0m\u001b[0;34m\u001b[0m\u001b[0m\n\u001b[1;32m   1536\u001b[0m \u001b[0;34m\u001b[0m\u001b[0m\n",
      "\u001b[0;32m/usr/lib/python3.6/selectors.py\u001b[0m in \u001b[0;36mselect\u001b[0;34m(self, timeout)\u001b[0m\n\u001b[1;32m    374\u001b[0m             \u001b[0mready\u001b[0m \u001b[0;34m=\u001b[0m \u001b[0;34m[\u001b[0m\u001b[0;34m]\u001b[0m\u001b[0;34m\u001b[0m\u001b[0;34m\u001b[0m\u001b[0m\n\u001b[1;32m    375\u001b[0m             \u001b[0;32mtry\u001b[0m\u001b[0;34m:\u001b[0m\u001b[0;34m\u001b[0m\u001b[0;34m\u001b[0m\u001b[0m\n\u001b[0;32m--> 376\u001b[0;31m                 \u001b[0mfd_event_list\u001b[0m \u001b[0;34m=\u001b[0m \u001b[0mself\u001b[0m\u001b[0;34m.\u001b[0m\u001b[0m_poll\u001b[0m\u001b[0;34m.\u001b[0m\u001b[0mpoll\u001b[0m\u001b[0;34m(\u001b[0m\u001b[0mtimeout\u001b[0m\u001b[0;34m)\u001b[0m\u001b[0;34m\u001b[0m\u001b[0;34m\u001b[0m\u001b[0m\n\u001b[0m\u001b[1;32m    377\u001b[0m             \u001b[0;32mexcept\u001b[0m \u001b[0mInterruptedError\u001b[0m\u001b[0;34m:\u001b[0m\u001b[0;34m\u001b[0m\u001b[0;34m\u001b[0m\u001b[0m\n\u001b[1;32m    378\u001b[0m                 \u001b[0;32mreturn\u001b[0m \u001b[0mready\u001b[0m\u001b[0;34m\u001b[0m\u001b[0;34m\u001b[0m\u001b[0m\n",
      "\u001b[0;31mKeyboardInterrupt\u001b[0m: "
     ]
    }
   ],
   "source": [
    "configuration = {}\n",
    "model_data_combos = {\"LWP475\": [\"1\",\"2\",\"4\"],\n",
    "                    \"LWP479\": [\"1_1\", \"2_1\", \"4_1\"]}\n",
    "for combo in [(m,d) for d, l in model_data_combos.items() for m in l]:\n",
    "    print(\"Working on (bph{}, {})\".format(*combo))\n",
    "    model_number = combo[0]\n",
    "    model_name = 'bph{}'.format(model_number)\n",
    "    DATASET = combo[1]\n",
    "    configuration[model_name] = {}\n",
    "    \n",
    "    configuration[model_name][DATASET] = {}\n",
    "    config, d0 = load_configuration(model_number, DATASET)\n",
    "    configuration[model_name][DATASET]['bayescmd_config'] = config\n",
    "    configuration[model_name][DATASET]['original_data']= d0\n",
    "\n",
    "    configuration[model_name][DATASET]['posterior_query'] = generate_posterior_query('hypothermia-bayescmd', \n",
    "                                                                                     DATASET, \n",
    "                                                                                     model_name, \n",
    "                                                                                     'NRMSE', \n",
    "                                                                                     list(configuration[model_name][DATASET]['bayescmd_config']['parameters'].keys()),\n",
    "                                                                                     limit=5000)\n",
    "    config = configuration[model_name][DATASET]['bayescmd_config']\n",
    "    figPath = \"/home/buck06191/Dropbox/phd/hypothermia/ABC/Figures/{}/{}/{}\".format(model_name, DATASET, 'NRMSE')\n",
    "    dir_util.mkpath(figPath)\n",
    "\n",
    "    # Get posterior\n",
    "    print(\"\\tRunning SQL query\")\n",
    "    df_post = client.query(configuration[model_name][DATASET]['posterior_query']).to_dataframe()\n",
    "    N=5000\n",
    "    print(\"\\tSampling from the posterior {} times.\".format(N))\n",
    "    \n",
    "    outputs_list = get_runs(df_post, config, n_repeats=N)\n",
    "    results = {}\n",
    "    print(\"\\n\")\n",
    "    \n",
    "    for i, output in enumerate(outputs_list):\n",
    "        results[i] = {}\n",
    "        summary_creator = SummaryStats(output, config['targets'], config['zero_flag'], observed_data = d0)\n",
    "        summary_creator.get_stats()\n",
    "        results[i]['data'] = summary_creator.d0\n",
    "        results[i]['residuals'] = summary_creator.residuals\n",
    "        results[i]['stats'] = summary_creator.summary_stats\n",
    "\n",
    "    resid_formatted = [{'Batch': i, 'Signal': j, 'Residuals': v, 'Time (sec)': idx+1} for i in results.keys(\n",
    "    ) for j in results[i]['residuals'].keys() for idx, v in enumerate(results[i]['residuals'][j])]\n",
    "    residuals = pd.DataFrame(resid_formatted)\n",
    "    fig1, axes1 = plt.subplots(2,2, figsize=(7,7))\n",
    "    fig2, axes2 = plt.subplots(2,2, figsize=(7,7))\n",
    "\n",
    "    for ii, s in enumerate(config['targets']):\n",
    "        signal_data=residuals[residuals['Signal']==s]['Residuals']\n",
    "        ax1=axes1.flatten()[ii]\n",
    "        sns.distplot(signal_data, ax=ax1)\n",
    "        resid_mu, resid_sigma = np.mean(signal_data), np.std(signal_data)\n",
    "        print(\"\\t{}: Mean $(\\mu$): {:.3g}\\n\\tStandard Deviation ($\\sigma$): {:.3g}\".format(s.upper(),resid_mu, resid_sigma))\n",
    "        mean = ax1.axvline(resid_mu, color='k', label='Mean', linestyle='--')\n",
    "        std = ax1.axvline(resid_mu-resid_sigma, color='g', label='Standard Deviation', linestyle='--')\n",
    "        ax1.axvline(resid_mu+resid_sigma, color='g', linestyle='--')\n",
    "        ax1.set_title(\"{}\".format(s), fontsize=12)\n",
    "\n",
    "\n",
    "        ax2=axes2.flatten()[ii]\n",
    "        resid = signal_data.values\n",
    "        sm.qqplot(resid, line='s',ax=ax2)\n",
    "        ax2.axhline(0, color='k', linestyle='--')\n",
    "        sample_mean = ax2.axhline(resid_mu, color='xkcd:orange', linestyle=':', label=\"Sample Mean\")\n",
    "        theoretical_mean = ax2.axvline(0, color='k', linestyle='--', label=\"Theoretical Mean\")\n",
    "        ax2.set_title(\"{}\".format(s), fontsize=12)\n",
    "        # print(stats.anderson(resid,dist='norm'))\n",
    "    axes1[-1, -1].axis('off')\n",
    "    axes2[-1, -1].axis('off')\n",
    "    lgd1 = fig1.legend(handles = [mean, std], bbox_to_anchor=(0.55, 0.4), loc=2, fontsize=14)\n",
    "    fig1.tight_layout()\n",
    "    fig1.subplots_adjust(top=0.85)\n",
    "    TIFF_exporter(fig1, 'residuals_dist_{}_{}'.format(model_name, DATASET), fig_dir=figPath, extra_artists=(lgd1,))\n",
    "\n",
    "    lgd2 = fig2.legend(handles = [theoretical_mean, sample_mean], bbox_to_anchor=(0.55, 0.4), loc=2, fontsize=14)\n",
    "    fig2.tight_layout()\n",
    "    fig2.subplots_adjust(top=0.85)\n",
    "    TIFF_exporter(fig2, 'residuals_qq_{}_{}'.format(model_name, DATASET), fig_dir=figPath, extra_artists=(lgd2,))\n",
    "\n",
    "    posterior = {}\n",
    "    prior = {}\n",
    "    entropy = {}\n",
    "    bins = {}\n",
    "    fig3, axes3 = plt.subplots(ceil(len(config['parameters'])/3),3, figsize=(7,8))\n",
    "    i = 0\n",
    "    for k,v in config['parameters'].items():\n",
    "        ax = axes3[i//3][i%3]\n",
    "\n",
    "        prior[k], bins[k] = np.histogram(np.random.uniform(v[1][0], v[1][1], 5000), 50, density=True)\n",
    "        posterior[k], _ = np.histogram(df_post[k].values, bins=bins[k], density=True)\n",
    "\n",
    "        entropy[k] = stats.entropy(posterior[k], prior[k])\n",
    "        line_post = ax.bar(bins[k][:-1], posterior[k], width = bins[k][1]-bins[k][0], align='edge', label='Posterior')\n",
    "        line_prior = ax.bar(bins[k][:-1], prior[k], width = bins[k][1]-bins[k][0], align='edge', alpha=.75, label='Prior')\n",
    "        #ax.text(0.7,0.965, \"Entropy: {:.3g}\".format(entropy[k]), transform=ax.transAxes, size=16)\n",
    "        ax.set_title(\"K-L Divergence: {:.3g}\".format(entropy[k]), y=1.01, fontsize=12)\n",
    "        ax.set_xlabel(k)\n",
    "\n",
    "        fig3.tight_layout()\n",
    "        i+=1\n",
    "\n",
    "    n_emptyAxes = 3-len(config['parameters'])%3\n",
    "    if n_emptyAxes > 0:\n",
    "        for n in range(1, n_emptyAxes+1):\n",
    "            axes3[-1, int(-1*n)].axis('off')\n",
    "\n",
    "    # axes[-1, -2].axis('off')\n",
    "    # axes3[-1, -1].axis('off')\n",
    "\n",
    "    lgd3 = fig3.legend(handles=[line_post, line_prior], bbox_to_anchor=(0.7, 0.2), loc=2, fontsize=12)\n",
    "\n",
    "    TIFF_exporter(fig3, 'kl_div_{}_{}'.format(model_name, DATASET), fig_dir=figPath, extra_artists=(lgd3,))\n",
    "    plt.close('all')"
   ]
  },
  {
   "cell_type": "markdown",
   "metadata": {},
   "source": [
    "# Residuals #\n",
    "We can also look at the residuals directly. We can see from both the time series and the distributions of the residuals that they are generally normally distributed aorund 0, with the exception of HbT which is centred roughly on -1.5, showing the general under estimation of the signal. "
   ]
  },
  {
   "cell_type": "code",
   "execution_count": null,
   "metadata": {},
   "outputs": [],
   "source": []
  },
  {
   "cell_type": "code",
   "execution_count": null,
   "metadata": {},
   "outputs": [],
   "source": [
    "# g = sns.FacetGrid(data=residuals, row = 'Signal', height = 4, aspect = 3, sharey=False,sharex=False)\n",
    "\n"
   ]
  },
  {
   "cell_type": "markdown",
   "metadata": {},
   "source": [
    "## Entropy of prior to posterior ##\n",
    "\n",
    "We need to sample $N_{limit}$ times from the prior distributions for each parameter. $N_{limit}$ is the number of samples in our posterior, in this case that is 3000. \n",
    "\n",
    "We then need to bin our posteriors and priors and the calculate the divergence."
   ]
  },
  {
   "cell_type": "code",
   "execution_count": null,
   "metadata": {
    "scrolled": false
   },
   "outputs": [],
   "source": [
    "\n"
   ]
  },
  {
   "cell_type": "code",
   "execution_count": null,
   "metadata": {},
   "outputs": [],
   "source": [
    "n_emptyAxes = 3-len(config['parameters'])%3\n",
    "if n_emptyAxes > 0:\n",
    "    for n in range(1, n_emptyAxes+1):\n",
    "        print(n)\n",
    "        #axes[-1, int(-1*n)].axis('off')"
   ]
  },
  {
   "cell_type": "code",
   "execution_count": null,
   "metadata": {},
   "outputs": [],
   "source": [
    "x = (1,2)\n",
    "print(\"{},{}\".format(*x))"
   ]
  },
  {
   "cell_type": "code",
   "execution_count": null,
   "metadata": {},
   "outputs": [],
   "source": []
  }
 ],
 "metadata": {
  "kernelspec": {
   "display_name": "Python 3",
   "language": "python",
   "name": "python3"
  },
  "language_info": {
   "codemirror_mode": {
    "name": "ipython",
    "version": 3
   },
   "file_extension": ".py",
   "mimetype": "text/x-python",
   "name": "python",
   "nbconvert_exporter": "python",
   "pygments_lexer": "ipython3",
   "version": "3.6.6"
  }
 },
 "nbformat": 4,
 "nbformat_minor": 2
}
