{
  "nbformat": 4,
  "nbformat_minor": 0,
  "metadata": {
    "colab": {
      "name": "hypothermia_comparative_BPH3.ipynb",
      "version": "0.3.2",
      "provenance": [],
      "collapsed_sections": []
    },
    "kernelspec": {
      "name": "python3",
      "display_name": "Python 3"
    }
  },
  "cells": [
    {
      "cell_type": "code",
      "metadata": {
        "id": "aRiQnPPeCi2J",
        "colab_type": "code",
        "outputId": "56666cc8-8d0c-4f41-cf87-ce2c838d5ed4",
        "colab": {
          "base_uri": "https://localhost:8080/",
          "height": 34
        }
      },
      "source": [
        "from google.colab import auth\n",
        "auth.authenticate_user()\n",
        "print('Authenticated')"
      ],
      "execution_count": 1,
      "outputs": [
        {
          "output_type": "stream",
          "text": [
            "Authenticated\n"
          ],
          "name": "stdout"
        }
      ]
    },
    {
      "cell_type": "code",
      "metadata": {
        "id": "6eNyor1EB7Xb",
        "colab_type": "code",
        "colab": {}
      },
      "source": [
        "import pandas as pd\n",
        "import matplotlib.pyplot as plt\n",
        "import seaborn as sns\n",
        "\n",
        "import matplotlib.lines as mlines\n",
        "import os\n",
        "import matplotlib as mpl\n",
        "from PIL import Image\n",
        "from io import BytesIO\n",
        "mpl.rc('figure', dpi=400, figsize=(10,10))\n",
        "mpl.rc('savefig', dpi=400)\n",
        "import numpy as np\n",
        "\n",
        "from math import log10, floor\n",
        "\n",
        "def round_sig(x, sig=1):\n",
        "    \"\"\"Round a value to N sig fig.\n",
        "\n",
        "    Parameters\n",
        "    ----------\n",
        "    x : float\n",
        "        Value to round\n",
        "    sig : int, optional\n",
        "        Number of sig figs, default is 1\n",
        "\n",
        "    Returns\n",
        "    -------\n",
        "    float\n",
        "        Rounded value\n",
        "\n",
        "    \"\"\"\n",
        "    return round(x, sig - int(floor(log10(abs(x)))) - 1)"
      ],
      "execution_count": 0,
      "outputs": []
    },
    {
      "cell_type": "code",
      "metadata": {
        "id": "pV5gK9GQCUof",
        "colab_type": "code",
        "colab": {}
      },
      "source": [
        "project_id = 'hypothermia-bayescmd'\n",
        "from google.cloud import bigquery\n",
        "\n",
        "client = bigquery.Client(project=project_id)"
      ],
      "execution_count": 0,
      "outputs": []
    },
    {
      "cell_type": "code",
      "metadata": {
        "id": "QTFPvG9EDODK",
        "colab_type": "code",
        "colab": {}
      },
      "source": [
        "LWP479_query = \"\"\"\n",
        "SELECT\n",
        "CBFn,\n",
        "phi,\n",
        "CMRO2_n,\n",
        "q_diff,\n",
        "k_aut,\n",
        "r_n,\n",
        "Xtot_n,\n",
        "r_0,\n",
        "r_t,\n",
        "Q_10,\n",
        "_L0n,\n",
        "pH_on,\n",
        "NADpool,\n",
        "  NRMSE,\n",
        "  \"LWP479\" as model_name\n",
        "FROM\n",
        "  LWP479.bph4_1\n",
        "ORDER BY\n",
        "  NRMSE ASC\n",
        "LIMIT\n",
        "  50000\n",
        "\"\"\""
      ],
      "execution_count": 0,
      "outputs": []
    },
    {
      "cell_type": "code",
      "metadata": {
        "id": "wGfW6C7UDela",
        "colab_type": "code",
        "colab": {}
      },
      "source": [
        "LWP475_query = \"\"\"\n",
        "SELECT\n",
        "CBFn,\n",
        "phi,\n",
        "CMRO2_n,\n",
        "q_diff,\n",
        "k_aut,\n",
        "r_n,\n",
        "Xtot_n,\n",
        "r_0,\n",
        "r_t,\n",
        "Q_10,\n",
        "_L0n,\n",
        "pH_on,\n",
        "NADpool,\n",
        "  NRMSE,\n",
        "  \"LWP475\" as model_name\n",
        " FROM \n",
        "  LWP475.bph4\n",
        " ORDER BY NRMSE ASC \n",
        " LIMIT 50000\n",
        " \"\"\""
      ],
      "execution_count": 0,
      "outputs": []
    },
    {
      "cell_type": "code",
      "metadata": {
        "id": "jrQNbrfWDzDO",
        "colab_type": "code",
        "colab": {}
      },
      "source": [
        "df475 = client.query(LWP475_query).to_dataframe()"
      ],
      "execution_count": 0,
      "outputs": []
    },
    {
      "cell_type": "code",
      "metadata": {
        "id": "eFgZ4cpXEGMG",
        "colab_type": "code",
        "colab": {}
      },
      "source": [
        "df479 = client.query(LWP479_query).to_dataframe()"
      ],
      "execution_count": 0,
      "outputs": []
    },
    {
      "cell_type": "code",
      "metadata": {
        "id": "ywKHakkDEbya",
        "colab_type": "code",
        "outputId": "c1296bb1-961a-4ffb-fa9c-8fd15cd0bb4a",
        "colab": {
          "base_uri": "https://localhost:8080/",
          "height": 206
        }
      },
      "source": [
        "df = pd.concat([df475, df479])\n",
        "df.head()"
      ],
      "execution_count": 8,
      "outputs": [
        {
          "output_type": "execute_result",
          "data": {
            "text/html": [
              "<div>\n",
              "<style scoped>\n",
              "    .dataframe tbody tr th:only-of-type {\n",
              "        vertical-align: middle;\n",
              "    }\n",
              "\n",
              "    .dataframe tbody tr th {\n",
              "        vertical-align: top;\n",
              "    }\n",
              "\n",
              "    .dataframe thead th {\n",
              "        text-align: right;\n",
              "    }\n",
              "</style>\n",
              "<table border=\"1\" class=\"dataframe\">\n",
              "  <thead>\n",
              "    <tr style=\"text-align: right;\">\n",
              "      <th></th>\n",
              "      <th>CBFn</th>\n",
              "      <th>phi</th>\n",
              "      <th>CMRO2_n</th>\n",
              "      <th>q_diff</th>\n",
              "      <th>k_aut</th>\n",
              "      <th>r_n</th>\n",
              "      <th>Xtot_n</th>\n",
              "      <th>r_0</th>\n",
              "      <th>r_t</th>\n",
              "      <th>Q_10</th>\n",
              "      <th>_L0n</th>\n",
              "      <th>pH_on</th>\n",
              "      <th>NADpool</th>\n",
              "      <th>NRMSE</th>\n",
              "      <th>model_name</th>\n",
              "    </tr>\n",
              "  </thead>\n",
              "  <tbody>\n",
              "    <tr>\n",
              "      <th>0</th>\n",
              "      <td>0.006474</td>\n",
              "      <td>0.037934</td>\n",
              "      <td>0.023748</td>\n",
              "      <td>0.488839</td>\n",
              "      <td>0.773439</td>\n",
              "      <td>0.016561</td>\n",
              "      <td>6.767744</td>\n",
              "      <td>0.011937</td>\n",
              "      <td>0.016153</td>\n",
              "      <td>1.117452</td>\n",
              "      <td>4.748271</td>\n",
              "      <td>6.949150</td>\n",
              "      <td>3.523505</td>\n",
              "      <td>0.565807</td>\n",
              "      <td>LWP475</td>\n",
              "    </tr>\n",
              "    <tr>\n",
              "      <th>1</th>\n",
              "      <td>0.006564</td>\n",
              "      <td>0.040567</td>\n",
              "      <td>0.023731</td>\n",
              "      <td>0.536348</td>\n",
              "      <td>0.985115</td>\n",
              "      <td>0.020874</td>\n",
              "      <td>7.597079</td>\n",
              "      <td>0.013492</td>\n",
              "      <td>0.016287</td>\n",
              "      <td>1.143012</td>\n",
              "      <td>3.421850</td>\n",
              "      <td>6.877260</td>\n",
              "      <td>3.529888</td>\n",
              "      <td>0.584315</td>\n",
              "      <td>LWP475</td>\n",
              "    </tr>\n",
              "    <tr>\n",
              "      <th>2</th>\n",
              "      <td>0.006754</td>\n",
              "      <td>0.032290</td>\n",
              "      <td>0.023039</td>\n",
              "      <td>0.415955</td>\n",
              "      <td>0.909648</td>\n",
              "      <td>0.015980</td>\n",
              "      <td>6.702713</td>\n",
              "      <td>0.011444</td>\n",
              "      <td>0.017603</td>\n",
              "      <td>1.069661</td>\n",
              "      <td>1.904225</td>\n",
              "      <td>6.837765</td>\n",
              "      <td>4.357515</td>\n",
              "      <td>0.587014</td>\n",
              "      <td>LWP475</td>\n",
              "    </tr>\n",
              "    <tr>\n",
              "      <th>3</th>\n",
              "      <td>0.006679</td>\n",
              "      <td>0.039097</td>\n",
              "      <td>0.023211</td>\n",
              "      <td>0.481509</td>\n",
              "      <td>0.717419</td>\n",
              "      <td>0.016580</td>\n",
              "      <td>6.181168</td>\n",
              "      <td>0.013676</td>\n",
              "      <td>0.017150</td>\n",
              "      <td>1.020387</td>\n",
              "      <td>3.429923</td>\n",
              "      <td>6.819878</td>\n",
              "      <td>3.663174</td>\n",
              "      <td>0.589518</td>\n",
              "      <td>LWP475</td>\n",
              "    </tr>\n",
              "    <tr>\n",
              "      <th>4</th>\n",
              "      <td>0.006794</td>\n",
              "      <td>0.037151</td>\n",
              "      <td>0.022928</td>\n",
              "      <td>0.464648</td>\n",
              "      <td>0.880732</td>\n",
              "      <td>0.019711</td>\n",
              "      <td>5.977158</td>\n",
              "      <td>0.013920</td>\n",
              "      <td>0.017492</td>\n",
              "      <td>1.061716</td>\n",
              "      <td>1.179847</td>\n",
              "      <td>7.008590</td>\n",
              "      <td>4.226897</td>\n",
              "      <td>0.595827</td>\n",
              "      <td>LWP475</td>\n",
              "    </tr>\n",
              "  </tbody>\n",
              "</table>\n",
              "</div>"
            ],
            "text/plain": [
              "       CBFn       phi   CMRO2_n  ...   NADpool     NRMSE  model_name\n",
              "0  0.006474  0.037934  0.023748  ...  3.523505  0.565807      LWP475\n",
              "1  0.006564  0.040567  0.023731  ...  3.529888  0.584315      LWP475\n",
              "2  0.006754  0.032290  0.023039  ...  4.357515  0.587014      LWP475\n",
              "3  0.006679  0.039097  0.023211  ...  3.663174  0.589518      LWP475\n",
              "4  0.006794  0.037151  0.022928  ...  4.226897  0.595827      LWP475\n",
              "\n",
              "[5 rows x 15 columns]"
            ]
          },
          "metadata": {
            "tags": []
          },
          "execution_count": 8
        }
      ]
    },
    {
      "cell_type": "code",
      "metadata": {
        "id": "ulESuF4UEcuf",
        "colab_type": "code",
        "colab": {}
      },
      "source": [
        "priors =  {\n",
        "        \"CBFn\": [\n",
        "            \"uniform\",\n",
        "            [\n",
        "                0.0064,\n",
        "                0.0096\n",
        "            ]\n",
        "        ],\n",
        "        \"phi\": [\n",
        "            \"uniform\",\n",
        "            [\n",
        "                0.0288,\n",
        "                0.0432\n",
        "            ]\n",
        "        ],\n",
        "        \"CMRO2_n\": [\n",
        "            \"uniform\",\n",
        "            [\n",
        "                0.016,\n",
        "                0.024\n",
        "            ]\n",
        "        ],\n",
        "        \"q_diff\": [\n",
        "            \"uniform\",\n",
        "            [\n",
        "                0.0,\n",
        "                5.0\n",
        "            ]\n",
        "        ],\n",
        "        \"k_aut\": [\n",
        "            \"uniform\",\n",
        "            [\n",
        "                0.0,\n",
        "                1.0\n",
        "            ]\n",
        "        ],\n",
        "        \"r_n\": [\n",
        "            \"uniform\",\n",
        "            [\n",
        "                0.01496,\n",
        "                0.02244\n",
        "            ]\n",
        "        ],\n",
        "        \"Xtot_n\": [\n",
        "            \"uniform\",\n",
        "            [\n",
        "                3.5,\n",
        "                8.0\n",
        "            ]\n",
        "        ],\n",
        "        \"r_0\": [\n",
        "            \"uniform\",\n",
        "            [\n",
        "                0.01008,\n",
        "                0.015119999999999998\n",
        "            ]\n",
        "        ],\n",
        "        \"r_t\": [\n",
        "            \"uniform\",\n",
        "            [\n",
        "                0.0144,\n",
        "                0.0216\n",
        "            ]\n",
        "        ],\n",
        "        \"Q_10\": [\n",
        "            \"uniform\",\n",
        "            [\n",
        "                0.001,\n",
        "                6.0\n",
        "            ]\n",
        "        ],\n",
        "        \"_L0n\": [\n",
        "            \"uniform\",\n",
        "            [\n",
        "                0.1,\n",
        "                5.0\n",
        "            ]\n",
        "        ],\n",
        "        \"pH_on\": [\n",
        "            \"uniform\",\n",
        "            [\n",
        "                6.8,\n",
        "                7.2\n",
        "            ]\n",
        "        ],\n",
        "        \"NADpool\": [\n",
        "            \"uniform\",\n",
        "            [\n",
        "                1.5,\n",
        "                4.5\n",
        "            ]\n",
        "        ]\n",
        "    }"
      ],
      "execution_count": 0,
      "outputs": []
    },
    {
      "cell_type": "code",
      "metadata": {
        "id": "QcRSsNieFNby",
        "colab_type": "code",
        "colab": {}
      },
      "source": [
        "def plot_comparison_diag_medians(g, df, medians):\n",
        "\n",
        "    for i, var in enumerate(g.x_vars):\n",
        "        ax = g.axes[i][i]\n",
        "        LWP475_median = np.median(df[var][df['model_name']=='LWP475'])\n",
        "        ax.axvline(LWP475_median, color=sns.color_palette()[0], linewidth=2)\n",
        "        \n",
        "        LWP479_median = np.median(df[var][df['model_name']=='LWP479'])\n",
        "        ax.axvline(LWP479_median, color=sns.color_palette()[1], linewidth=2)\n",
        "        \n",
        "        \n",
        "        ax.text(\n",
        "            0.05,\n",
        "            1.45,\n",
        "            \"LWP475: {:.3g}\\nLWP479: {:.3g}\".format(LWP475_median,\n",
        "                                                    LWP479_median),\n",
        "            verticalalignment='center',\n",
        "            transform=ax.transAxes,\n",
        "            fontsize=8)\n",
        "        \n",
        "\n",
        "\n",
        "    return True"
      ],
      "execution_count": 0,
      "outputs": []
    },
    {
      "cell_type": "code",
      "metadata": {
        "id": "UJrn8-UmGTd7",
        "colab_type": "code",
        "colab": {}
      },
      "source": [
        "def medians_comparison_kde_plot(x, y, medians, **kws):\n",
        "    \"\"\"Plot bivariate KDE with median of distribution marked on,\n",
        "    comparing between groups.\n",
        "\n",
        "    Parameters\n",
        "    ----------\n",
        "    x : array-like\n",
        "        Array-like of data to plot.\n",
        "    y : array-like\n",
        "        Array-like of data to plot.\n",
        "    medians : :obj:`dict`\n",
        "        Dictionary of parameter, median pairings.\n",
        "    kws : key, value pairings.\n",
        "        Other keyword arguments to pass to :obj:`sns.distplot`.\n",
        "\n",
        "    Returns\n",
        "    -------\n",
        "    ax : :obj:`matplotlib.AxesSubplot`\n",
        "        AxesSubplot object of univariate KDE and bar plot with median marked\n",
        "        on as well as text.\n",
        "\n",
        "    \"\"\"\n",
        "    ax = plt.gca()\n",
        "    ax = sns.kdeplot(x, y, ax=ax, **kws)\n",
        "    # color = infer_from_cmap(kws['cmap'])\n",
        "    x_median = x.median()\n",
        "    y_median = y.median()\n",
        "    ax.plot(x_median, y_median, 'X', markerfacecolor=kws['color'],\n",
        "            markeredgecolor='k', markeredgewidth=1.5, markersize=6)\n",
        "    return ax"
      ],
      "execution_count": 0,
      "outputs": []
    },
    {
      "cell_type": "code",
      "metadata": {
        "id": "8QvNv2nCF94c",
        "colab_type": "code",
        "outputId": "6ae19688-63ec-4f78-a01b-e013199ada8a",
        "colab": {
          "base_uri": "https://localhost:8080/",
          "height": 52
        }
      },
      "source": [
        "parameters= list(priors.keys())\n",
        "medians={}\n",
        "with sns.plotting_context(\"paper\", rc={\"xtick.labelsize\": 12,\n",
        "                                       \"ytick.labelsize\": 12,\n",
        "                                       \"axes.labelsize\": 12}):   \n",
        "    g = sns.PairGrid(df,\n",
        "                     vars=parameters,\n",
        "                     diag_sharey=False,\n",
        "                     height=0.5,\n",
        "                     hue='model_name')\n",
        "    \n",
        "    g.map_diag(sns.distplot, hist_kws=dict(alpha=0.5))\n",
        "    plot_comparison_diag_medians(g, df, medians=medians)\n",
        "    g.map_lower(medians_comparison_kde_plot, medians=medians)\n",
        "    n_ticks=4\n",
        "    for i, j in zip(*np.triu_indices_from(g.axes, 1)):\n",
        "        g.axes[i, j].set_visible(False)\n",
        "    for ii, ax in enumerate(g.axes.flat):\n",
        "        for label in ax.get_xticklabels():\n",
        "            label.set_rotation(75)\n",
        "        ax.xaxis.labelpad=5\n",
        "        ax.yaxis.labelpad=5\n",
        "        ii_y = ii // len(parameters)\n",
        "        ii_x = ii % len(parameters)\n",
        "        ax.set_ylim(priors[parameters[ii_y]][1])\n",
        "        ax.set_xlim(priors[parameters[ii_x]][1])\n",
        "        xmax = priors[parameters[ii_x]][1][1]\n",
        "        xmin = priors[parameters[ii_x]][1][0]\n",
        "        xticks = np.arange(xmin, xmax,\n",
        "                           round_sig((xmax - xmin) / n_ticks, sig=1))\n",
        "        ax.set_xticks(xticks)\n",
        "        ax.set_xlabel(ax.get_xlabel(), labelpad=1, rotation=30, fontsize=8)\n",
        "        ax.set_ylabel(ax.get_ylabel(), labelpad=15, rotation=45, fontsize=8)\n",
        "    lines = []\n",
        "    # lines.append(('True Value', mlines.Line2D([], [], color='black')))\n",
        "    lines.append(('Posterior Median - LWP475', mlines.Line2D([], [], color=sns.color_palette()[0])))\n",
        "    lines.append(('Posterior Median - LWP479', mlines.Line2D([], [], color=sns.color_palette()[1])))\n",
        "    g.set(yticklabels=[])\n",
        "    g.set(xticklabels=[])\n",
        "    g.fig.legend(labels=[l[0] for l in lines],\n",
        "                 handles=[l[1] for l in lines],\n",
        "                 bbox_to_anchor=(0.35, 0.95), loc=2, prop={\"size\": 12})\n",
        "\n",
        "    # g.fig.tight_layout()\n",
        "    g.fig.subplots_adjust(wspace=0.15, hspace=0.25)"
      ],
      "execution_count": 0,
      "outputs": [
        {
          "output_type": "stream",
          "text": [
            "/usr/local/lib/python3.6/dist-packages/matplotlib/tight_layout.py:211: UserWarning: Tight layout not applied. tight_layout cannot make axes height small enough to accommodate all axes decorations\n",
            "  warnings.warn('Tight layout not applied. '\n"
          ],
          "name": "stderr"
        }
      ]
    },
    {
      "cell_type": "code",
      "metadata": {
        "id": "fALLS1aNGjuH",
        "colab_type": "code",
        "colab": {}
      },
      "source": [
        "from google.colab import files\n",
        "from google.colab import drive\n",
        "drive.mount('/content/gdrive')"
      ],
      "execution_count": 0,
      "outputs": []
    },
    {
      "cell_type": "code",
      "metadata": {
        "id": "wap6dYgxbL7g",
        "colab_type": "code",
        "colab": {}
      },
      "source": [
        "g.savefig('/content/gdrive/My Drive/Colab Notebooks/comparison_posteriors_bph3.png')"
      ],
      "execution_count": 0,
      "outputs": []
    },
    {
      "cell_type": "code",
      "metadata": {
        "id": "cXIy__Zc692N",
        "colab_type": "code",
        "colab": {}
      },
      "source": [
        "g = sns.FacetGrid(df, hue='model_name', height=3)\n",
        "g = (g.map(sns.distplot, 'Q_10'))"
      ],
      "execution_count": 0,
      "outputs": []
    },
    {
      "cell_type": "code",
      "metadata": {
        "id": "wUu5sCfRgVKc",
        "colab_type": "code",
        "colab": {}
      },
      "source": [
        "g.savefig('/content/gdrive/My Drive/Colab Notebooks/Q_10_marginal_bph3.png')"
      ],
      "execution_count": 0,
      "outputs": []
    },
    {
      "cell_type": "code",
      "metadata": {
        "id": "rP9hXg0qhJ8Q",
        "colab_type": "code",
        "colab": {}
      },
      "source": [
        ""
      ],
      "execution_count": 0,
      "outputs": []
    }
  ]
}