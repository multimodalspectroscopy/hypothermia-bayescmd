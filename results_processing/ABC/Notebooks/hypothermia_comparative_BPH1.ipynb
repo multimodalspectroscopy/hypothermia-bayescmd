{
  "nbformat": 4,
  "nbformat_minor": 0,
  "metadata": {
    "colab": {
      "name": "hypothermia_comparative_BPH1.ipynb",
      "version": "0.3.2",
      "provenance": [],
      "collapsed_sections": []
    },
    "kernelspec": {
      "name": "python3",
      "display_name": "Python 3"
    }
  },
  "cells": [
    {
      "cell_type": "code",
      "metadata": {
        "id": "aRiQnPPeCi2J",
        "colab_type": "code",
        "outputId": "6baad8b0-285d-4ee9-b980-5bd83cef8c7c",
        "colab": {
          "base_uri": "https://localhost:8080/",
          "height": 34
        }
      },
      "source": [
        "from google.colab import auth\n",
        "auth.authenticate_user()\n",
        "print('Authenticated')"
      ],
      "execution_count": 0,
      "outputs": [
        {
          "output_type": "stream",
          "text": [
            "Authenticated\n"
          ],
          "name": "stdout"
        }
      ]
    },
    {
      "cell_type": "code",
      "metadata": {
        "id": "6eNyor1EB7Xb",
        "colab_type": "code",
        "colab": {}
      },
      "source": [
        "import pandas as pd\n",
        "import matplotlib.pyplot as plt\n",
        "import seaborn as sns\n",
        "\n",
        "import matplotlib.lines as mlines\n",
        "import os\n",
        "import matplotlib as mpl\n",
        "from PIL import Image\n",
        "from io import BytesIO\n",
        "mpl.rc('figure', dpi=400, figsize=(10,10))\n",
        "mpl.rc('savefig', dpi=400)\n",
        "import numpy as np\n",
        "\n",
        "from math import log10, floor\n",
        "\n",
        "def round_sig(x, sig=1):\n",
        "    \"\"\"Round a value to N sig fig.\n",
        "\n",
        "    Parameters\n",
        "    ----------\n",
        "    x : float\n",
        "        Value to round\n",
        "    sig : int, optional\n",
        "        Number of sig figs, default is 1\n",
        "\n",
        "    Returns\n",
        "    -------\n",
        "    float\n",
        "        Rounded value\n",
        "\n",
        "    \"\"\"\n",
        "    return round(x, sig - int(floor(log10(abs(x)))) - 1)"
      ],
      "execution_count": 0,
      "outputs": []
    },
    {
      "cell_type": "code",
      "metadata": {
        "id": "pV5gK9GQCUof",
        "colab_type": "code",
        "colab": {}
      },
      "source": [
        "project_id = 'hypothermia-bayescmd'\n",
        "from google.cloud import bigquery\n",
        "\n",
        "client = bigquery.Client(project=project_id)"
      ],
      "execution_count": 0,
      "outputs": []
    },
    {
      "cell_type": "code",
      "metadata": {
        "id": "QTFPvG9EDODK",
        "colab_type": "code",
        "colab": {}
      },
      "source": [
        "LWP479_query = \"\"\"\n",
        "SELECT\n",
        "    CBFn,\n",
        "    K_sigma,\n",
        "    phi,\n",
        "    n_h,\n",
        "    k_aut,\n",
        "    R_auto,\n",
        "    Xtot_n,\n",
        "    Q_10,\n",
        "    NADpool,\n",
        "    O2_n,\n",
        "    r_n,\n",
        "    r_0,\n",
        "    r_t,\n",
        "    NRMSE,\n",
        "    \"LWP479\" as model_name\n",
        "FROM\n",
        "  LWP479.bph1_1\n",
        "ORDER BY\n",
        "  NRMSE ASC\n",
        "LIMIT\n",
        "  50000\n",
        "\"\"\""
      ],
      "execution_count": 0,
      "outputs": []
    },
    {
      "cell_type": "code",
      "metadata": {
        "id": "wGfW6C7UDela",
        "colab_type": "code",
        "colab": {}
      },
      "source": [
        "LWP475_query = \"\"\"\n",
        "SELECT\n",
        "    CBFn,\n",
        "    K_sigma,\n",
        "    phi,\n",
        "    n_h,\n",
        "    k_aut,\n",
        "    R_auto,\n",
        "    Xtot_n,\n",
        "    Q_10,\n",
        "    NADpool,\n",
        "    O2_n,\n",
        "    r_n,\n",
        "    r_0,\n",
        "    r_t,\n",
        "    NRMSE,\n",
        "    \"LWP475\" as model_name\n",
        " FROM \n",
        "  LWP475.bph1\n",
        " ORDER BY NRMSE ASC \n",
        " LIMIT 50000\n",
        " \"\"\""
      ],
      "execution_count": 0,
      "outputs": []
    },
    {
      "cell_type": "code",
      "metadata": {
        "id": "jrQNbrfWDzDO",
        "colab_type": "code",
        "colab": {}
      },
      "source": [
        "df475 = client.query(LWP475_query).to_dataframe()"
      ],
      "execution_count": 0,
      "outputs": []
    },
    {
      "cell_type": "code",
      "metadata": {
        "id": "eFgZ4cpXEGMG",
        "colab_type": "code",
        "colab": {}
      },
      "source": [
        "df479 = client.query(LWP479_query).to_dataframe()"
      ],
      "execution_count": 0,
      "outputs": []
    },
    {
      "cell_type": "code",
      "metadata": {
        "id": "ywKHakkDEbya",
        "colab_type": "code",
        "outputId": "767eee58-bc02-4f8f-b9b8-9f037c6fc619",
        "colab": {
          "base_uri": "https://localhost:8080/",
          "height": 206
        }
      },
      "source": [
        "df = pd.concat([df475, df479])\n",
        "df.head()"
      ],
      "execution_count": 0,
      "outputs": [
        {
          "output_type": "execute_result",
          "data": {
            "text/html": [
              "<div>\n",
              "<style scoped>\n",
              "    .dataframe tbody tr th:only-of-type {\n",
              "        vertical-align: middle;\n",
              "    }\n",
              "\n",
              "    .dataframe tbody tr th {\n",
              "        vertical-align: top;\n",
              "    }\n",
              "\n",
              "    .dataframe thead th {\n",
              "        text-align: right;\n",
              "    }\n",
              "</style>\n",
              "<table border=\"1\" class=\"dataframe\">\n",
              "  <thead>\n",
              "    <tr style=\"text-align: right;\">\n",
              "      <th></th>\n",
              "      <th>CBFn</th>\n",
              "      <th>K_sigma</th>\n",
              "      <th>phi</th>\n",
              "      <th>n_h</th>\n",
              "      <th>k_aut</th>\n",
              "      <th>R_auto</th>\n",
              "      <th>Xtot_n</th>\n",
              "      <th>Q_10</th>\n",
              "      <th>NADpool</th>\n",
              "      <th>O2_n</th>\n",
              "      <th>r_n</th>\n",
              "      <th>r_0</th>\n",
              "      <th>r_t</th>\n",
              "      <th>NRMSE</th>\n",
              "      <th>model_name</th>\n",
              "    </tr>\n",
              "  </thead>\n",
              "  <tbody>\n",
              "    <tr>\n",
              "      <th>0</th>\n",
              "      <td>0.006447</td>\n",
              "      <td>10.067759</td>\n",
              "      <td>0.041978</td>\n",
              "      <td>2.760951</td>\n",
              "      <td>0.927100</td>\n",
              "      <td>0.032600</td>\n",
              "      <td>5.633674</td>\n",
              "      <td>5.886396</td>\n",
              "      <td>3.949605</td>\n",
              "      <td>0.020345</td>\n",
              "      <td>0.015919</td>\n",
              "      <td>0.012346</td>\n",
              "      <td>0.019015</td>\n",
              "      <td>0.677611</td>\n",
              "      <td>LWP475</td>\n",
              "    </tr>\n",
              "    <tr>\n",
              "      <th>1</th>\n",
              "      <td>0.006894</td>\n",
              "      <td>8.211408</td>\n",
              "      <td>0.042979</td>\n",
              "      <td>2.704179</td>\n",
              "      <td>0.812034</td>\n",
              "      <td>0.275974</td>\n",
              "      <td>5.041412</td>\n",
              "      <td>5.958105</td>\n",
              "      <td>2.741552</td>\n",
              "      <td>0.019445</td>\n",
              "      <td>0.017545</td>\n",
              "      <td>0.011756</td>\n",
              "      <td>0.017131</td>\n",
              "      <td>0.680020</td>\n",
              "      <td>LWP475</td>\n",
              "    </tr>\n",
              "    <tr>\n",
              "      <th>2</th>\n",
              "      <td>0.006581</td>\n",
              "      <td>10.789513</td>\n",
              "      <td>0.041824</td>\n",
              "      <td>2.486855</td>\n",
              "      <td>0.941600</td>\n",
              "      <td>0.069301</td>\n",
              "      <td>5.580235</td>\n",
              "      <td>5.852527</td>\n",
              "      <td>3.523267</td>\n",
              "      <td>0.020557</td>\n",
              "      <td>0.020515</td>\n",
              "      <td>0.014589</td>\n",
              "      <td>0.019085</td>\n",
              "      <td>0.683028</td>\n",
              "      <td>LWP475</td>\n",
              "    </tr>\n",
              "    <tr>\n",
              "      <th>3</th>\n",
              "      <td>0.006613</td>\n",
              "      <td>9.650557</td>\n",
              "      <td>0.041817</td>\n",
              "      <td>2.896765</td>\n",
              "      <td>0.967578</td>\n",
              "      <td>0.493388</td>\n",
              "      <td>5.203070</td>\n",
              "      <td>5.973608</td>\n",
              "      <td>2.707903</td>\n",
              "      <td>0.019477</td>\n",
              "      <td>0.015616</td>\n",
              "      <td>0.015046</td>\n",
              "      <td>0.019686</td>\n",
              "      <td>0.684943</td>\n",
              "      <td>LWP475</td>\n",
              "    </tr>\n",
              "    <tr>\n",
              "      <th>4</th>\n",
              "      <td>0.006599</td>\n",
              "      <td>10.079713</td>\n",
              "      <td>0.043052</td>\n",
              "      <td>2.605980</td>\n",
              "      <td>0.824446</td>\n",
              "      <td>0.240908</td>\n",
              "      <td>5.332797</td>\n",
              "      <td>5.971031</td>\n",
              "      <td>3.939768</td>\n",
              "      <td>0.021628</td>\n",
              "      <td>0.016338</td>\n",
              "      <td>0.012433</td>\n",
              "      <td>0.017573</td>\n",
              "      <td>0.688737</td>\n",
              "      <td>LWP475</td>\n",
              "    </tr>\n",
              "  </tbody>\n",
              "</table>\n",
              "</div>"
            ],
            "text/plain": [
              "       CBFn    K_sigma       phi  ...       r_t     NRMSE  model_name\n",
              "0  0.006447  10.067759  0.041978  ...  0.019015  0.677611      LWP475\n",
              "1  0.006894   8.211408  0.042979  ...  0.017131  0.680020      LWP475\n",
              "2  0.006581  10.789513  0.041824  ...  0.019085  0.683028      LWP475\n",
              "3  0.006613   9.650557  0.041817  ...  0.019686  0.684943      LWP475\n",
              "4  0.006599  10.079713  0.043052  ...  0.017573  0.688737      LWP475\n",
              "\n",
              "[5 rows x 15 columns]"
            ]
          },
          "metadata": {
            "tags": []
          },
          "execution_count": 8
        }
      ]
    },
    {
      "cell_type": "code",
      "metadata": {
        "id": "ulESuF4UEcuf",
        "colab_type": "code",
        "colab": {}
      },
      "source": [
        "priors =  {\n",
        "        \"CBFn\": [\n",
        "            \"uniform\",\n",
        "            [\n",
        "                0.0064,\n",
        "                0.0096\n",
        "            ]\n",
        "        ],\n",
        "        \"K_sigma\": [\n",
        "            \"uniform\",\n",
        "            [\n",
        "                8.0,\n",
        "                12.0\n",
        "            ]\n",
        "        ],\n",
        "        \"phi\": [\n",
        "            \"uniform\",\n",
        "            [\n",
        "                0.0288,\n",
        "                0.0432\n",
        "            ]\n",
        "        ],\n",
        "        \"n_h\": [\n",
        "            \"uniform\",\n",
        "            [\n",
        "                2.0,\n",
        "                3.0\n",
        "            ]\n",
        "        ],\n",
        "        \"k_aut\": [\n",
        "            \"uniform\",\n",
        "            [\n",
        "                0.0,\n",
        "                1.0\n",
        "            ]\n",
        "        ],\n",
        "        \"R_auto\": [\n",
        "            \"uniform\",\n",
        "            [\n",
        "                0.0,\n",
        "                10.0\n",
        "            ]\n",
        "        ],\n",
        "        \"Xtot_n\": [\n",
        "            \"uniform\",\n",
        "            [\n",
        "                3.5,\n",
        "                8.0\n",
        "            ]\n",
        "        ],\n",
        "        \"Q_10\": [\n",
        "            \"uniform\",\n",
        "            [\n",
        "                0.001,\n",
        "                6.0\n",
        "            ]\n",
        "        ],\n",
        "        \"NADpool\": [\n",
        "            \"uniform\",\n",
        "            [\n",
        "                1.5,\n",
        "                4.5\n",
        "            ]\n",
        "        ],\n",
        "        \"O2_n\": [\n",
        "            \"uniform\",\n",
        "            [\n",
        "                0.0192,\n",
        "                0.0288\n",
        "            ]\n",
        "        ],\n",
        "        \"r_n\": [\n",
        "            \"uniform\",\n",
        "            [\n",
        "                0.01496,\n",
        "                0.02244\n",
        "            ]\n",
        "        ],\n",
        "        \"r_0\": [\n",
        "            \"uniform\",\n",
        "            [\n",
        "                0.01008,\n",
        "                0.015119999999999998\n",
        "            ]\n",
        "        ],\n",
        "        \"r_t\": [\n",
        "            \"uniform\",\n",
        "            [\n",
        "                0.0144,\n",
        "                0.0216\n",
        "            ]\n",
        "        ]\n",
        "    }"
      ],
      "execution_count": 0,
      "outputs": []
    },
    {
      "cell_type": "code",
      "metadata": {
        "id": "QcRSsNieFNby",
        "colab_type": "code",
        "colab": {}
      },
      "source": [
        "def plot_comparison_diag_medians(g, df, medians):\n",
        "\n",
        "    for i, var in enumerate(g.x_vars):\n",
        "        ax = g.axes[i][i]\n",
        "        LWP475_median = np.median(df[var][df['model_name']=='LWP475'])\n",
        "        ax.axvline(LWP475_median, color=sns.color_palette()[0], linewidth=2)\n",
        "        \n",
        "        LWP479_median = np.median(df[var][df['model_name']=='LWP479'])\n",
        "        ax.axvline(LWP479_median, color=sns.color_palette()[1], linewidth=2)\n",
        "        \n",
        "        \n",
        "        ax.text(\n",
        "            0.05,\n",
        "            1.45,\n",
        "            \"LWP475: {:.3g}\\nLWP479: {:.3g}\".format(LWP475_median,\n",
        "                                                    LWP479_median),\n",
        "            verticalalignment='center',\n",
        "            transform=ax.transAxes,\n",
        "            fontsize=8)\n",
        "        \n",
        "\n",
        "\n",
        "    return True"
      ],
      "execution_count": 0,
      "outputs": []
    },
    {
      "cell_type": "code",
      "metadata": {
        "id": "UJrn8-UmGTd7",
        "colab_type": "code",
        "colab": {}
      },
      "source": [
        "def medians_comparison_kde_plot(x, y, medians, **kws):\n",
        "    \"\"\"Plot bivariate KDE with median of distribution marked on,\n",
        "    comparing between groups.\n",
        "\n",
        "    Parameters\n",
        "    ----------\n",
        "    x : array-like\n",
        "        Array-like of data to plot.\n",
        "    y : array-like\n",
        "        Array-like of data to plot.\n",
        "    medians : :obj:`dict`\n",
        "        Dictionary of parameter, median pairings.\n",
        "    kws : key, value pairings.\n",
        "        Other keyword arguments to pass to :obj:`sns.distplot`.\n",
        "\n",
        "    Returns\n",
        "    -------\n",
        "    ax : :obj:`matplotlib.AxesSubplot`\n",
        "        AxesSubplot object of univariate KDE and bar plot with median marked\n",
        "        on as well as text.\n",
        "\n",
        "    \"\"\"\n",
        "    ax = plt.gca()\n",
        "    ax = sns.kdeplot(x, y, ax=ax, **kws)\n",
        "    # color = infer_from_cmap(kws['cmap'])\n",
        "    x_median = x.median()\n",
        "    y_median = y.median()\n",
        "    ax.plot(x_median, y_median, 'X', markerfacecolor=kws['color'],\n",
        "            markeredgecolor='k', markeredgewidth=1.5, markersize=6)\n",
        "    return ax"
      ],
      "execution_count": 0,
      "outputs": []
    },
    {
      "cell_type": "code",
      "metadata": {
        "id": "8QvNv2nCF94c",
        "colab_type": "code",
        "colab": {}
      },
      "source": [
        "parameters= list(priors.keys())\n",
        "medians={}\n",
        "with sns.plotting_context(\"paper\", rc={\"xtick.labelsize\": 12,\n",
        "                                       \"ytick.labelsize\": 12,\n",
        "                                       \"axes.labelsize\": 12}):   \n",
        "    g = sns.PairGrid(df,\n",
        "                     vars=parameters,\n",
        "                     diag_sharey=False,\n",
        "                     height=0.5,\n",
        "                     hue='model_name')\n",
        "    \n",
        "    g.map_diag(sns.distplot, hist_kws=dict(alpha=0.5))\n",
        "    plot_comparison_diag_medians(g, df, medians=medians)\n",
        "    g.map_lower(medians_comparison_kde_plot, medians=medians)\n",
        "    n_ticks=4\n",
        "    for i, j in zip(*np.triu_indices_from(g.axes, 1)):\n",
        "        g.axes[i, j].set_visible(False)\n",
        "    for ii, ax in enumerate(g.axes.flat):\n",
        "        for label in ax.get_xticklabels():\n",
        "            label.set_rotation(75)\n",
        "        ax.xaxis.labelpad=5\n",
        "        ax.yaxis.labelpad=5\n",
        "        ii_y = ii // len(parameters)\n",
        "        ii_x = ii % len(parameters)\n",
        "        ax.set_ylim(priors[parameters[ii_y]][1])\n",
        "        ax.set_xlim(priors[parameters[ii_x]][1])\n",
        "        xmax = priors[parameters[ii_x]][1][1]\n",
        "        xmin = priors[parameters[ii_x]][1][0]\n",
        "        xticks = np.arange(xmin, xmax,\n",
        "                           round_sig((xmax - xmin) / n_ticks, sig=1))\n",
        "        ax.set_xticks(xticks)\n",
        "        ax.set_xlabel(ax.get_xlabel(), labelpad=1, rotation=30, fontsize=8)\n",
        "        ax.set_ylabel(ax.get_ylabel(), labelpad=15, rotation=45, fontsize=8)\n",
        "    lines = []\n",
        "    # lines.append(('True Value', mlines.Line2D([], [], color='black')))\n",
        "    lines.append(('Posterior Median - LWP475', mlines.Line2D([], [], color=sns.color_palette()[0])))\n",
        "    lines.append(('Posterior Median - LWP479', mlines.Line2D([], [], color=sns.color_palette()[1])))\n",
        "    g.set(yticklabels=[])\n",
        "    g.set(xticklabels=[])\n",
        "    g.fig.legend(labels=[l[0] for l in lines],\n",
        "                 handles=[l[1] for l in lines],\n",
        "                 bbox_to_anchor=(0.35, 0.95), loc=2, prop={\"size\": 12})\n",
        "\n",
        "    # g.fig.tight_layout()\n",
        "    g.fig.subplots_adjust(wspace=0.15, hspace=0.25)"
      ],
      "execution_count": 0,
      "outputs": []
    },
    {
      "cell_type": "code",
      "metadata": {
        "id": "fALLS1aNGjuH",
        "colab_type": "code",
        "colab": {}
      },
      "source": [
        "from google.colab import files\n",
        "from google.colab import drive\n",
        "drive.mount('/content/gdrive')"
      ],
      "execution_count": 0,
      "outputs": []
    },
    {
      "cell_type": "code",
      "metadata": {
        "id": "wap6dYgxbL7g",
        "colab_type": "code",
        "colab": {}
      },
      "source": [
        "g.savefig('/content/gdrive/My Drive/Colab Notebooks/comparison_posteriors_bph1.png')"
      ],
      "execution_count": 0,
      "outputs": []
    },
    {
      "cell_type": "code",
      "metadata": {
        "id": "cXIy__Zc692N",
        "colab_type": "code",
        "colab": {}
      },
      "source": [
        "g = sns.FacetGrid(df, hue='model_name', height=3)\n",
        "g = (g.map(sns.distplot, 'Q_10'))"
      ],
      "execution_count": 0,
      "outputs": []
    },
    {
      "cell_type": "code",
      "metadata": {
        "id": "wUu5sCfRgVKc",
        "colab_type": "code",
        "colab": {}
      },
      "source": [
        "g.savefig('/content/gdrive/My Drive/Colab Notebooks/Q_10_marginal_bph1.png')"
      ],
      "execution_count": 0,
      "outputs": []
    },
    {
      "cell_type": "code",
      "metadata": {
        "id": "rP9hXg0qhJ8Q",
        "colab_type": "code",
        "colab": {}
      },
      "source": [
        ""
      ],
      "execution_count": 0,
      "outputs": []
    }
  ]
}